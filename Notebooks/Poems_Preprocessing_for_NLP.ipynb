{
 "cells": [
  {
   "cell_type": "markdown",
   "metadata": {},
   "source": [
    "### What type of NLP applications can we have from this dataset?\n",
    "##### 1. Prediction of the rest a poem from a few words\n",
    "##### 2. Prediction of the theme of a poems\n",
    "##### 3. Combination of both above : Prediction of the rest of a poem in a specific thema"
   ]
  },
  {
   "cell_type": "code",
   "execution_count": 146,
   "metadata": {},
   "outputs": [],
   "source": [
    "import tensorflow as tf\n",
    "from tensorflow import keras\n",
    "import pandas as pd\n",
    "import numpy as np\n",
    "import seaborn as sns\n",
    "import matplotlib.pyplot as plt"
   ]
  },
  {
   "cell_type": "code",
   "execution_count": 136,
   "metadata": {},
   "outputs": [
    {
     "data": {
      "text/html": [
       "<div>\n",
       "<style scoped>\n",
       "    .dataframe tbody tr th:only-of-type {\n",
       "        vertical-align: middle;\n",
       "    }\n",
       "\n",
       "    .dataframe tbody tr th {\n",
       "        vertical-align: top;\n",
       "    }\n",
       "\n",
       "    .dataframe thead th {\n",
       "        text-align: right;\n",
       "    }\n",
       "</style>\n",
       "<table border=\"1\" class=\"dataframe\">\n",
       "  <thead>\n",
       "    <tr style=\"text-align: right;\">\n",
       "      <th></th>\n",
       "      <th>Theme</th>\n",
       "      <th>Title</th>\n",
       "      <th>Author</th>\n",
       "      <th>Content</th>\n",
       "    </tr>\n",
       "  </thead>\n",
       "  <tbody>\n",
       "    <tr>\n",
       "      <th>0</th>\n",
       "      <td>Absence</td>\n",
       "      <td>Est-ce le Vent...?</td>\n",
       "      <td>PHILIPPE SOUPAULT</td>\n",
       "      <td>Est-ce le vent qui m’apporte tout à coup ces n...</td>\n",
       "    </tr>\n",
       "    <tr>\n",
       "      <th>1</th>\n",
       "      <td>Absence</td>\n",
       "      <td>Sous les Arbres Mauves</td>\n",
       "      <td>PHILIPPE SOUPAULT</td>\n",
       "      <td>Sous les arbres mauves\\nune nuit mauvaise\\nj’a...</td>\n",
       "    </tr>\n",
       "    <tr>\n",
       "      <th>2</th>\n",
       "      <td>Adieu</td>\n",
       "      <td>Au Revoir</td>\n",
       "      <td>RALPH WALDO EMERSON</td>\n",
       "      <td>Au revoir, monde fier! je rentre à la maison:\\...</td>\n",
       "    </tr>\n",
       "    <tr>\n",
       "      <th>3</th>\n",
       "      <td>Adieu</td>\n",
       "      <td>Ceci est mon Testament</td>\n",
       "      <td>ROSEMONDE GÉRARD</td>\n",
       "      <td>Je vous laisse, Ami cher, cette frivole estamp...</td>\n",
       "    </tr>\n",
       "    <tr>\n",
       "      <th>4</th>\n",
       "      <td>Adieu</td>\n",
       "      <td>Les Adieux</td>\n",
       "      <td>SAPPHO</td>\n",
       "      <td>Atthis n'est point sur ses pas retournée.\\nVra...</td>\n",
       "    </tr>\n",
       "  </tbody>\n",
       "</table>\n",
       "</div>"
      ],
      "text/plain": [
       "     Theme                   Title               Author  \\\n",
       "0  Absence      Est-ce le Vent...?    PHILIPPE SOUPAULT   \n",
       "1  Absence  Sous les Arbres Mauves    PHILIPPE SOUPAULT   \n",
       "2    Adieu               Au Revoir  RALPH WALDO EMERSON   \n",
       "3    Adieu  Ceci est mon Testament     ROSEMONDE GÉRARD   \n",
       "4    Adieu              Les Adieux               SAPPHO   \n",
       "\n",
       "                                             Content  \n",
       "0  Est-ce le vent qui m’apporte tout à coup ces n...  \n",
       "1  Sous les arbres mauves\\nune nuit mauvaise\\nj’a...  \n",
       "2  Au revoir, monde fier! je rentre à la maison:\\...  \n",
       "3  Je vous laisse, Ami cher, cette frivole estamp...  \n",
       "4  Atthis n'est point sur ses pas retournée.\\nVra...  "
      ]
     },
     "execution_count": 136,
     "metadata": {},
     "output_type": "execute_result"
    }
   ],
   "source": [
    "#import dataframe with poems\n",
    "df_poems = pd.read_csv('../Data/poems_dataset')\n",
    "df_poems.drop(columns='Unnamed: 0',inplace=True) \n",
    "df_poems.head()"
   ]
  },
  {
   "cell_type": "code",
   "execution_count": 137,
   "metadata": {},
   "outputs": [],
   "source": [
    "#Exploration of the data\n",
    "def agg_table(df,feature_to_agg):\n",
    "    df_agg = df[[feature_to_agg,'Content']].groupby(feature_to_agg)\\\n",
    "                             .agg(['count'])\\\n",
    "                             .sort_values(by=('Content','count'),ascending=False)\\\n",
    "\n",
    "    df_agg.columns = df_agg.columns.droplevel(1)\n",
    "    return df_agg"
   ]
  },
  {
   "cell_type": "code",
   "execution_count": 138,
   "metadata": {},
   "outputs": [
    {
     "name": "stdout",
     "output_type": "stream",
     "text": [
      "Number of unique Theme : 124\n"
     ]
    },
    {
     "data": {
      "text/html": [
       "<div>\n",
       "<style scoped>\n",
       "    .dataframe tbody tr th:only-of-type {\n",
       "        vertical-align: middle;\n",
       "    }\n",
       "\n",
       "    .dataframe tbody tr th {\n",
       "        vertical-align: top;\n",
       "    }\n",
       "\n",
       "    .dataframe thead th {\n",
       "        text-align: right;\n",
       "    }\n",
       "</style>\n",
       "<table border=\"1\" class=\"dataframe\">\n",
       "  <thead>\n",
       "    <tr style=\"text-align: right;\">\n",
       "      <th></th>\n",
       "      <th>Content</th>\n",
       "    </tr>\n",
       "    <tr>\n",
       "      <th>Theme</th>\n",
       "      <th></th>\n",
       "    </tr>\n",
       "  </thead>\n",
       "  <tbody>\n",
       "    <tr>\n",
       "      <th>Vie</th>\n",
       "      <td>30</td>\n",
       "    </tr>\n",
       "    <tr>\n",
       "      <th>Corps</th>\n",
       "      <td>30</td>\n",
       "    </tr>\n",
       "    <tr>\n",
       "      <th>Souvenir</th>\n",
       "      <td>30</td>\n",
       "    </tr>\n",
       "    <tr>\n",
       "      <th>Dieu</th>\n",
       "      <td>30</td>\n",
       "    </tr>\n",
       "    <tr>\n",
       "      <th>Désespoir</th>\n",
       "      <td>30</td>\n",
       "    </tr>\n",
       "  </tbody>\n",
       "</table>\n",
       "</div>"
      ],
      "text/plain": [
       "           Content\n",
       "Theme             \n",
       "Vie             30\n",
       "Corps           30\n",
       "Souvenir        30\n",
       "Dieu            30\n",
       "Désespoir       30"
      ]
     },
     "execution_count": 138,
     "metadata": {},
     "output_type": "execute_result"
    }
   ],
   "source": [
    "#View distribution of theme accross the dataset\n",
    "df_theme_agg = agg_table(df_poems,'Theme')\n",
    "print('Number of unique Theme : {}'.format(len(df_poems['Theme'].unique())))\n",
    "df_theme_agg.head()"
   ]
  },
  {
   "cell_type": "code",
   "execution_count": 139,
   "metadata": {},
   "outputs": [
    {
     "data": {
      "text/plain": [
       "Text(0.5, 1.0, 'Distribution du nombre de poemes par thématiques')"
      ]
     },
     "execution_count": 139,
     "metadata": {},
     "output_type": "execute_result"
    },
    {
     "data": {
      "image/png": "[encoded data removed]",
      "text/plain": [
       "<Figure size 864x72 with 1 Axes>"
      ]
     },
     "metadata": {
      "needs_background": "light"
     },
     "output_type": "display_data"
    }
   ],
   "source": [
    "fig = plt.subplots(figsize=(12,1))\n",
    "sns.boxplot(df_theme_agg)\n",
    "plt.title(\"Distribution du nombre de poemes par thématiques\")"
   ]
  },
  {
   "cell_type": "code",
   "execution_count": 140,
   "metadata": {},
   "outputs": [
    {
     "data": {
      "text/plain": [
       "Text(0.5, 1.0, 'Distribution du nombre de poemes par thématiques')"
      ]
     },
     "execution_count": 140,
     "metadata": {},
     "output_type": "execute_result"
    },
    {
     "data": {
      "image/png": "[encoded data removed]",
      "text/plain": [
       "<Figure size 576x1080 with 1 Axes>"
      ]
     },
     "metadata": {
      "needs_background": "light"
     },
     "output_type": "display_data"
    }
   ],
   "source": [
    "sub_df_theme_agg = df_theme_agg[df_theme_agg['Content'] > 10]\n",
    "fig = plt.subplots(figsize=(8,15))\n",
    "sns.barplot(y=sub_df_theme_agg.index,x=sub_df_theme_agg.Content,)\n",
    "plt.title(\"Distribution du nombre de poemes par thématiques\")"
   ]
  },
  {
   "cell_type": "code",
   "execution_count": 141,
   "metadata": {},
   "outputs": [
    {
     "name": "stdout",
     "output_type": "stream",
     "text": [
      "Number of unique Author : 550\n"
     ]
    },
    {
     "data": {
      "text/html": [
       "<div>\n",
       "<style scoped>\n",
       "    .dataframe tbody tr th:only-of-type {\n",
       "        vertical-align: middle;\n",
       "    }\n",
       "\n",
       "    .dataframe tbody tr th {\n",
       "        vertical-align: top;\n",
       "    }\n",
       "\n",
       "    .dataframe thead th {\n",
       "        text-align: right;\n",
       "    }\n",
       "</style>\n",
       "<table border=\"1\" class=\"dataframe\">\n",
       "  <thead>\n",
       "    <tr style=\"text-align: right;\">\n",
       "      <th></th>\n",
       "      <th>Content</th>\n",
       "    </tr>\n",
       "    <tr>\n",
       "      <th>Author</th>\n",
       "      <th></th>\n",
       "    </tr>\n",
       "  </thead>\n",
       "  <tbody>\n",
       "    <tr>\n",
       "      <th>VICTOR HUGO</th>\n",
       "      <td>84</td>\n",
       "    </tr>\n",
       "    <tr>\n",
       "      <th>JOH HOPE</th>\n",
       "      <td>60</td>\n",
       "    </tr>\n",
       "    <tr>\n",
       "      <th>ALAIN BOSQUET</th>\n",
       "      <td>41</td>\n",
       "    </tr>\n",
       "    <tr>\n",
       "      <th>CLÉMENT MAROT</th>\n",
       "      <td>33</td>\n",
       "    </tr>\n",
       "    <tr>\n",
       "      <th>PAUL VERLAINE</th>\n",
       "      <td>32</td>\n",
       "    </tr>\n",
       "  </tbody>\n",
       "</table>\n",
       "</div>"
      ],
      "text/plain": [
       "               Content\n",
       "Author                \n",
       "VICTOR HUGO         84\n",
       "JOH HOPE            60\n",
       "ALAIN BOSQUET       41\n",
       "CLÉMENT MAROT       33\n",
       "PAUL VERLAINE       32"
      ]
     },
     "execution_count": 141,
     "metadata": {},
     "output_type": "execute_result"
    }
   ],
   "source": [
    "#View distribution of Authors accross the dataset\n",
    "df_author_agg = agg_table(df_poems,'Author')\n",
    "print('Number of unique Author : {}'.format(len(df_poems['Author'].unique())))\n",
    "df_author_agg.head()"
   ]
  },
  {
   "cell_type": "code",
   "execution_count": 142,
   "metadata": {},
   "outputs": [
    {
     "data": {
      "text/plain": [
       "Text(0.5, 1.0, 'Distribution du nombre de poemes par auteurs')"
      ]
     },
     "execution_count": 142,
     "metadata": {},
     "output_type": "execute_result"
    },
    {
     "data": {
      "image/png": "[encoded data removed]",
      "text/plain": [
       "<Figure size 1296x72 with 1 Axes>"
      ]
     },
     "metadata": {
      "needs_background": "light"
     },
     "output_type": "display_data"
    }
   ],
   "source": [
    "fig = plt.subplots(figsize=(18,1))\n",
    "sns.boxplot(df_author_agg)\n",
    "plt.title(\"Distribution du nombre de poemes par auteurs\")"
   ]
  },
  {
   "cell_type": "code",
   "execution_count": 143,
   "metadata": {},
   "outputs": [
    {
     "data": {
      "text/plain": [
       "'Sous les arbres mauves\\nune nuit mauvaise\\nj’allais contre le froid\\ntous ceux que la faim faisait doucement gémir\\ntous ceux qui laissaient tomber les bras\\nguettaient dans l’ombre\\nIls étaient là près de moi\\nLeurs yeux trop grands étaient des menaces\\nJ’avais honte de savoir marcher\\net une lumière plus douce que la neige\\nme tirait\\nTu ne me quittais pas\\ntu dormais\\net ta vie était cette nuit\\nque je respirais\\nJe savais par mes yeux mes mains mes pas\\nque tout s’effaçait\\nqu’il n’ y avait plus que la terre\\nque la terre\\net toi.'"
      ]
     },
     "execution_count": 143,
     "metadata": {},
     "output_type": "execute_result"
    }
   ],
   "source": [
    "#see an example of the poem structure\n",
    "p = df_poems.Content[1]\n",
    "p"
   ]
  },
  {
   "cell_type": "code",
   "execution_count": 144,
   "metadata": {},
   "outputs": [
    {
     "data": {
      "text/html": [
       "<div>\n",
       "<style scoped>\n",
       "    .dataframe tbody tr th:only-of-type {\n",
       "        vertical-align: middle;\n",
       "    }\n",
       "\n",
       "    .dataframe tbody tr th {\n",
       "        vertical-align: top;\n",
       "    }\n",
       "\n",
       "    .dataframe thead th {\n",
       "        text-align: right;\n",
       "    }\n",
       "</style>\n",
       "<table border=\"1\" class=\"dataframe\">\n",
       "  <thead>\n",
       "    <tr style=\"text-align: right;\">\n",
       "      <th></th>\n",
       "      <th>Theme</th>\n",
       "      <th>Title</th>\n",
       "      <th>Author</th>\n",
       "      <th>Content</th>\n",
       "      <th>List_Sentences</th>\n",
       "    </tr>\n",
       "  </thead>\n",
       "  <tbody>\n",
       "    <tr>\n",
       "      <th>0</th>\n",
       "      <td>Absence</td>\n",
       "      <td>Est-ce le Vent...?</td>\n",
       "      <td>PHILIPPE SOUPAULT</td>\n",
       "      <td>Est-ce le vent qui m’apporte tout à coup ces n...</td>\n",
       "      <td>[Est-ce le vent qui m’apporte tout à coup ces ...</td>\n",
       "    </tr>\n",
       "    <tr>\n",
       "      <th>1</th>\n",
       "      <td>Absence</td>\n",
       "      <td>Sous les Arbres Mauves</td>\n",
       "      <td>PHILIPPE SOUPAULT</td>\n",
       "      <td>Sous les arbres mauves\\nune nuit mauvaise\\nj’a...</td>\n",
       "      <td>[Sous les arbres mauves, une nuit mauvaise, j’...</td>\n",
       "    </tr>\n",
       "    <tr>\n",
       "      <th>2</th>\n",
       "      <td>Adieu</td>\n",
       "      <td>Au Revoir</td>\n",
       "      <td>RALPH WALDO EMERSON</td>\n",
       "      <td>Au revoir, monde fier! je rentre à la maison:\\...</td>\n",
       "      <td>[Au revoir, monde fier! je rentre à la maison:...</td>\n",
       "    </tr>\n",
       "    <tr>\n",
       "      <th>3</th>\n",
       "      <td>Adieu</td>\n",
       "      <td>Ceci est mon Testament</td>\n",
       "      <td>ROSEMONDE GÉRARD</td>\n",
       "      <td>Je vous laisse, Ami cher, cette frivole estamp...</td>\n",
       "      <td>[Je vous laisse, Ami cher, cette frivole estam...</td>\n",
       "    </tr>\n",
       "    <tr>\n",
       "      <th>4</th>\n",
       "      <td>Adieu</td>\n",
       "      <td>Les Adieux</td>\n",
       "      <td>SAPPHO</td>\n",
       "      <td>Atthis n'est point sur ses pas retournée.\\nVra...</td>\n",
       "      <td>[Atthis n'est point sur ses pas retournée., Vr...</td>\n",
       "    </tr>\n",
       "  </tbody>\n",
       "</table>\n",
       "</div>"
      ],
      "text/plain": [
       "     Theme                   Title               Author  \\\n",
       "0  Absence      Est-ce le Vent...?    PHILIPPE SOUPAULT   \n",
       "1  Absence  Sous les Arbres Mauves    PHILIPPE SOUPAULT   \n",
       "2    Adieu               Au Revoir  RALPH WALDO EMERSON   \n",
       "3    Adieu  Ceci est mon Testament     ROSEMONDE GÉRARD   \n",
       "4    Adieu              Les Adieux               SAPPHO   \n",
       "\n",
       "                                             Content  \\\n",
       "0  Est-ce le vent qui m’apporte tout à coup ces n...   \n",
       "1  Sous les arbres mauves\\nune nuit mauvaise\\nj’a...   \n",
       "2  Au revoir, monde fier! je rentre à la maison:\\...   \n",
       "3  Je vous laisse, Ami cher, cette frivole estamp...   \n",
       "4  Atthis n'est point sur ses pas retournée.\\nVra...   \n",
       "\n",
       "                                      List_Sentences  \n",
       "0  [Est-ce le vent qui m’apporte tout à coup ces ...  \n",
       "1  [Sous les arbres mauves, une nuit mauvaise, j’...  \n",
       "2  [Au revoir, monde fier! je rentre à la maison:...  \n",
       "3  [Je vous laisse, Ami cher, cette frivole estam...  \n",
       "4  [Atthis n'est point sur ses pas retournée., Vr...  "
      ]
     },
     "execution_count": 144,
     "metadata": {},
     "output_type": "execute_result"
    }
   ],
   "source": [
    "#split this text into sentences\n",
    "df_poems['List_Sentences'] = [p.split('\\n') for p in df_poems.Content]\n",
    "df_poems.head()"
   ]
  },
  {
   "cell_type": "code",
   "execution_count": 166,
   "metadata": {},
   "outputs": [
    {
     "ename": "ImportError",
     "evalue": "cannot import name 'preprocessing' from 'tensorflow.keras' (unknown location)",
     "output_type": "error",
     "traceback": [
      "\u001b[0;31m---------------------------------------------------------------------------\u001b[0m",
      "\u001b[0;31mImportError\u001b[0m                               Traceback (most recent call last)",
      "\u001b[0;32m<ipython-input-166-30ccfed9a636>\u001b[0m in \u001b[0;36m<module>\u001b[0;34m\u001b[0m\n\u001b[1;32m      1\u001b[0m \u001b[0;31m#preprocessing of data : Tokeniser\u001b[0m\u001b[0;34m\u001b[0m\u001b[0;34m\u001b[0m\u001b[0;34m\u001b[0m\u001b[0m\n\u001b[0;32m----> 2\u001b[0;31m \u001b[0;32mfrom\u001b[0m \u001b[0mtensorflow\u001b[0m\u001b[0;34m.\u001b[0m\u001b[0mkeras\u001b[0m \u001b[0;32mimport\u001b[0m \u001b[0mpreprocessing\u001b[0m\u001b[0;34m\u001b[0m\u001b[0;34m\u001b[0m\u001b[0m\n\u001b[0m\u001b[1;32m      3\u001b[0m \u001b[0;34m\u001b[0m\u001b[0m\n\u001b[1;32m      4\u001b[0m \u001b[0msentences\u001b[0m \u001b[0;34m=\u001b[0m \u001b[0mdf_poems\u001b[0m\u001b[0;34m[\u001b[0m\u001b[0;34m'List_Sentences'\u001b[0m\u001b[0;34m]\u001b[0m\u001b[0;34m\u001b[0m\u001b[0;34m\u001b[0m\u001b[0m\n\u001b[1;32m      5\u001b[0m \u001b[0mtokeniser\u001b[0m \u001b[0;34m=\u001b[0m \u001b[0mTokeniser\u001b[0m\u001b[0;34m(\u001b[0m\u001b[0mnum_words\u001b[0m\u001b[0;34m=\u001b[0m\u001b[0;36m100\u001b[0m\u001b[0;34m)\u001b[0m\u001b[0;34m\u001b[0m\u001b[0;34m\u001b[0m\u001b[0m\n",
      "\u001b[0;31mImportError\u001b[0m: cannot import name 'preprocessing' from 'tensorflow.keras' (unknown location)"
     ]
    }
   ],
   "source": [
    "#preprocessing of data : Tokeniser\n",
    "from tensorflow.keras import preprocessing\n",
    "\n",
    "sentences = df_poems['List_Sentences']\n",
    "tokeniser = Tokeniser(num_words=100)\n",
    "tokeniser.fit_on_text(sentences)\n",
    "word_index = tokeniser.word_index\n",
    "print(word_index)"
   ]
  },
  {
   "cell_type": "code",
   "execution_count": 165,
   "metadata": {},
   "outputs": [
    {
     "data": {
      "text/plain": [
       "'Est-ce le vent qui m’apporte tout à coup ces nouvelles'"
      ]
     },
     "execution_count": 165,
     "metadata": {},
     "output_type": "execute_result"
    }
   ],
   "source": []
  },
  {
   "cell_type": "code",
   "execution_count": null,
   "metadata": {},
   "outputs": [],
   "source": []
  }
 ],
 "metadata": {
  "kernelspec": {
   "display_name": "Python 3",
   "language": "python",
   "name": "python3"
  },
  "language_info": {
   "codemirror_mode": {
    "name": "ipython",
    "version": 3
   },
   "file_extension": ".py",
   "mimetype": "text/x-python",
   "name": "python",
   "nbconvert_exporter": "python",
   "pygments_lexer": "ipython3",
   "version": "3.7.1"
  }
 },
 "nbformat": 4,
 "nbformat_minor": 4
}
